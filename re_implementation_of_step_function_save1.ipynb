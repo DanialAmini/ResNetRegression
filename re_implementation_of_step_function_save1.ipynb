{
 "cells": [
  {
   "cell_type": "code",
   "execution_count": 1,
   "metadata": {},
   "outputs": [
    {
     "name": "stdout",
     "output_type": "stream",
     "text": [
      "initial time= 1595836206.921747\n",
      "time= 5.0 s\n"
     ]
    }
   ],
   "source": [
    "#kernel = .venv\n",
    "#codes copies from this link:\n",
    "#https://machinelearningmastery.com/tensorflow-tutorial-deep-learning-with-tf-keras/\n",
    "\n",
    "import time\n",
    "from time import time\n",
    "t0=time()\n",
    "\n",
    "import numpy as np\n",
    "from numpy import sqrt\n",
    "\n",
    "import pandas as pd\n",
    "from pandas import read_csv\n",
    "\n",
    "from tensorflow.keras import layers,models,callbacks #should I remove?\n",
    "from tensorflow.keras import Sequential\n",
    "from tensorflow.keras.layers import Dense\n",
    "\n",
    "import keras\n",
    "\n",
    "from sklearn.model_selection import train_test_split\n",
    "from sklearn.metrics import mean_squared_error\n",
    "from sklearn.model_selection import train_test_split\n",
    "from sklearn.preprocessing import QuantileTransformer\n",
    "from sklearn.pipeline import make_pipeline\n",
    "from sklearn.inspection import partial_dependence\n",
    "from sklearn.inspection import plot_partial_dependence\n",
    "from sklearn.experimental import enable_hist_gradient_boosting  # noqa\n",
    "from sklearn.ensemble import HistGradientBoostingRegressor\n",
    "from sklearn.neural_network import MLPRegressor\n",
    "from sklearn.datasets import fetch_california_housing\n",
    "\n",
    "\n",
    "import matplotlib\n",
    "import seaborn as sns\n",
    "import matplotlib.pyplot as plt\n",
    "from mpl_toolkits.mplot3d import Axes3D\n",
    "\n",
    "if 'model' in globals():\n",
    "    del model\n",
    "\n",
    "t1=time()\n",
    "print('initial time=',t1)\n",
    "print('time=',round(t1-t0,1),'s')"
   ]
  },
  {
   "cell_type": "code",
   "execution_count": null,
   "metadata": {},
   "outputs": [],
   "source": []
  },
  {
   "cell_type": "code",
   "execution_count": null,
   "metadata": {},
   "outputs": [],
   "source": []
  },
  {
   "cell_type": "code",
   "execution_count": 2,
   "metadata": {},
   "outputs": [
    {
     "name": "stdout",
     "output_type": "stream",
     "text": [
      "time= 0.6 s\n"
     ]
    }
   ],
   "source": [
    "t1=time()\n",
    "\n",
    "#create synthetic data\n",
    "N_train=7500000\n",
    "N_test =2500000\n",
    "\n",
    "N_train=750000\n",
    "N_test =250000\n",
    "\n",
    "# N_train=7500\n",
    "# N_test =2500\n",
    "nx_=1\n",
    "\n",
    "\n",
    "x_train=np.random.rand(N_train)*4\n",
    "y_train=np.zeros(N_train)\n",
    "x_test=np.random.rand(N_test)*4\n",
    "y_test=np.zeros(N_test)\n",
    "\n",
    "\n",
    "#with vectorization\n",
    "def myfunc(x):\n",
    "    y=np.zeros(len(x))\n",
    "    for i in range(7+1):\n",
    "        y=y+np.power(x,i)\n",
    "    y=np.where(y>=1600,1600,np.where(y>=1200,1200,np.where(y>=800,800,np.where(y>=400,400,y))))\n",
    "    return y\n",
    "\n",
    "#vfunc = np.vectorize(myfunc) #it actually hurts the performance\n",
    "\n",
    "\n",
    "y_train=myfunc(x_train)\n",
    "y_test=myfunc(x_test)\n",
    "\n",
    "xmax=max(x_train)\n",
    "ymax=max(y_train)\n",
    "\n",
    "x_train=x_train/xmax\n",
    "y_train=y_train/ymax\n",
    "\n",
    "x_test=x_test/xmax\n",
    "y_test=y_test/ymax\n",
    "\n",
    "t2=time(); print('time=',round(t2-t1,1),'s'); t1=t2"
   ]
  },
  {
   "cell_type": "code",
   "execution_count": null,
   "metadata": {},
   "outputs": [],
   "source": []
  },
  {
   "cell_type": "code",
   "execution_count": null,
   "metadata": {},
   "outputs": [],
   "source": []
  },
  {
   "cell_type": "code",
   "execution_count": 3,
   "metadata": {},
   "outputs": [],
   "source": [
    "###############tensorflow fully connected (dense) regression\n",
    "\n",
    "epoch_=50;\n",
    "batch_size_=5000 #bigger batch sizes are not good\n",
    "\n",
    "\n",
    "\n",
    "wid_=8;\t\t\tdep_=1;\t\t\tactivation_='relu'\t\t\t#MSE * 1e4 =  0.0005997383923594999\n",
    "wid_=8;\t\t\tdep_=2;\t\t\tactivation_='tanh'\t\t\t#MSE * 1e4 =  0.009752472850023612\n",
    "\n",
    "# define model\n",
    "if 'model' in globals():\n",
    "    del model\n",
    "model = Sequential()\n",
    "model.add(Dense(wid_, activation=activation_, kernel_initializer='he_normal', input_shape=(nx_,)))\n",
    "model.add(Dense(1))\n",
    "\n",
    "\n",
    "wid_=16;\t\tdep_=16;\t\tactivation_='tanh';\t\t\t#MSE * 1e4 =  0.1408823252082908\n",
    "wid_=16;\t\tdep_=2;\t\t\tactivation_='relu';\t\t\t#MSE * 1e4 =  0.001052005001494346\n",
    "wid_=20 ;\t\tdep_=4 ;\t\tactivation_='relu';\t\t\t#\n",
    "wid_=15 ;\t\tdep_=1 ;\t\tactivation_='tanh';\t\t\t#MSE*1e4= 11.369 , time= 7:15 min:sec\n",
    "wid_=16;\t\tdep_=16;\t\tactivation_='relu';\t\t\t#about 20 minutes\n",
    "wid_=18;\t\tdep_=28;\t\tactivation_='relu';\t\t\t#MSE*1e4= 0.782 , time= 18:30\n",
    "\t\t\t\t\t\t\t\t\t\t\t\t\t\t\t#\n",
    "\n",
    "# define model\n",
    "if 'model' in globals():\n",
    "    del model\n",
    "model = Sequential()\n",
    "model.add(Dense(wid_, activation=activation_, kernel_initializer='he_normal', input_shape=(nx_,)))\n",
    "for i in range(dep_-1):\n",
    "    model.add(Dense(wid_, activation=activation_, kernel_initializer='he_normal'))\n",
    "model.add(Dense(1))\n",
    "\n",
    "\n"
   ]
  },
  {
   "cell_type": "code",
   "execution_count": 4,
   "metadata": {},
   "outputs": [],
   "source": [
    "# compile the model\n",
    "model.compile(optimizer='adam', loss='mse', metrics=['mse'])"
   ]
  },
  {
   "cell_type": "code",
   "execution_count": 5,
   "metadata": {},
   "outputs": [
    {
     "name": "stdout",
     "output_type": "stream",
     "text": [
      "Epoch 1/50\n",
      "135/135 - 3s - loss: 0.0250 - mse: 0.0250 - val_loss: 0.0080 - val_mse: 0.0080\n",
      "Epoch 2/50\n",
      "135/135 - 3s - loss: 0.0042 - mse: 0.0042 - val_loss: 0.0016 - val_mse: 0.0016\n",
      "Epoch 3/50\n",
      "135/135 - 3s - loss: 0.0011 - mse: 0.0011 - val_loss: 7.3851e-04 - val_mse: 7.3851e-04\n",
      "Epoch 4/50\n",
      "135/135 - 3s - loss: 7.4756e-04 - mse: 7.4756e-04 - val_loss: 5.5710e-04 - val_mse: 5.5710e-04\n",
      "Epoch 5/50\n",
      "135/135 - 3s - loss: 7.0598e-04 - mse: 7.0598e-04 - val_loss: 8.8100e-04 - val_mse: 8.8100e-04\n",
      "Epoch 6/50\n",
      "135/135 - 3s - loss: 6.6931e-04 - mse: 6.6931e-04 - val_loss: 8.3082e-04 - val_mse: 8.3082e-04\n",
      "Epoch 7/50\n",
      "135/135 - 3s - loss: 7.3368e-04 - mse: 7.3368e-04 - val_loss: 5.3693e-04 - val_mse: 5.3693e-04\n",
      "Epoch 8/50\n",
      "135/135 - 3s - loss: 5.8674e-04 - mse: 5.8674e-04 - val_loss: 5.2982e-04 - val_mse: 5.2982e-04\n",
      "Epoch 9/50\n",
      "135/135 - 3s - loss: 6.2794e-04 - mse: 6.2794e-04 - val_loss: 5.2157e-04 - val_mse: 5.2157e-04\n",
      "Epoch 10/50\n",
      "135/135 - 3s - loss: 6.0223e-04 - mse: 6.0223e-04 - val_loss: 5.7000e-04 - val_mse: 5.7000e-04\n",
      "Epoch 11/50\n",
      "135/135 - 3s - loss: 6.8069e-04 - mse: 6.8069e-04 - val_loss: 8.9977e-04 - val_mse: 8.9977e-04\n",
      "Epoch 12/50\n",
      "135/135 - 3s - loss: 7.6132e-04 - mse: 7.6132e-04 - val_loss: 5.1757e-04 - val_mse: 5.1757e-04\n",
      "Epoch 13/50\n",
      "135/135 - 3s - loss: 6.2578e-04 - mse: 6.2578e-04 - val_loss: 5.3925e-04 - val_mse: 5.3925e-04\n",
      "Epoch 14/50\n",
      "135/135 - 3s - loss: 5.9180e-04 - mse: 5.9180e-04 - val_loss: 7.3058e-04 - val_mse: 7.3058e-04\n",
      "Epoch 15/50\n",
      "135/135 - 3s - loss: 6.1593e-04 - mse: 6.1593e-04 - val_loss: 5.5699e-04 - val_mse: 5.5699e-04\n",
      "Epoch 16/50\n",
      "135/135 - 3s - loss: 6.0331e-04 - mse: 6.0331e-04 - val_loss: 5.1419e-04 - val_mse: 5.1419e-04\n",
      "Epoch 17/50\n",
      "135/135 - 3s - loss: 6.0725e-04 - mse: 6.0725e-04 - val_loss: 6.9871e-04 - val_mse: 6.9871e-04\n",
      "Epoch 18/50\n",
      "135/135 - 3s - loss: 6.4617e-04 - mse: 6.4617e-04 - val_loss: 5.7732e-04 - val_mse: 5.7732e-04\n",
      "Epoch 19/50\n",
      "135/135 - 3s - loss: 5.7803e-04 - mse: 5.7803e-04 - val_loss: 5.0445e-04 - val_mse: 5.0445e-04\n",
      "Epoch 20/50\n",
      "135/135 - 3s - loss: 6.5573e-04 - mse: 6.5573e-04 - val_loss: 0.0010 - val_mse: 0.0010\n",
      "Epoch 21/50\n",
      "135/135 - 3s - loss: 5.8799e-04 - mse: 5.8799e-04 - val_loss: 5.3044e-04 - val_mse: 5.3044e-04\n",
      "Epoch 22/50\n",
      "135/135 - 3s - loss: 6.1642e-04 - mse: 6.1642e-04 - val_loss: 7.8596e-04 - val_mse: 7.8596e-04\n",
      "Epoch 23/50\n",
      "135/135 - 3s - loss: 5.5328e-04 - mse: 5.5328e-04 - val_loss: 4.9897e-04 - val_mse: 4.9897e-04\n",
      "Epoch 24/50\n",
      "135/135 - 3s - loss: 6.1993e-04 - mse: 6.1993e-04 - val_loss: 5.4746e-04 - val_mse: 5.4746e-04\n",
      "Epoch 25/50\n",
      "135/135 - 3s - loss: 5.4413e-04 - mse: 5.4413e-04 - val_loss: 5.3793e-04 - val_mse: 5.3793e-04\n",
      "Epoch 26/50\n",
      "135/135 - 3s - loss: 5.8444e-04 - mse: 5.8444e-04 - val_loss: 4.9993e-04 - val_mse: 4.9993e-04\n",
      "Epoch 27/50\n",
      "135/135 - 3s - loss: 6.9262e-04 - mse: 6.9262e-04 - val_loss: 4.9264e-04 - val_mse: 4.9264e-04\n",
      "Epoch 28/50\n",
      "135/135 - 3s - loss: 5.6073e-04 - mse: 5.6073e-04 - val_loss: 5.0412e-04 - val_mse: 5.0412e-04\n",
      "Epoch 29/50\n",
      "135/135 - 3s - loss: 5.8538e-04 - mse: 5.8538e-04 - val_loss: 6.5580e-04 - val_mse: 6.5580e-04\n",
      "Epoch 30/50\n",
      "135/135 - 3s - loss: 5.9389e-04 - mse: 5.9389e-04 - val_loss: 4.9218e-04 - val_mse: 4.9218e-04\n",
      "Epoch 31/50\n",
      "135/135 - 3s - loss: 5.7508e-04 - mse: 5.7508e-04 - val_loss: 5.4428e-04 - val_mse: 5.4428e-04\n",
      "Epoch 32/50\n",
      "135/135 - 3s - loss: 5.4748e-04 - mse: 5.4748e-04 - val_loss: 5.4189e-04 - val_mse: 5.4189e-04\n",
      "Epoch 33/50\n",
      "135/135 - 3s - loss: 5.8795e-04 - mse: 5.8795e-04 - val_loss: 7.0874e-04 - val_mse: 7.0874e-04\n",
      "Epoch 34/50\n",
      "135/135 - 3s - loss: 5.5781e-04 - mse: 5.5781e-04 - val_loss: 5.5019e-04 - val_mse: 5.5019e-04\n",
      "Epoch 35/50\n",
      "135/135 - 3s - loss: 6.5234e-04 - mse: 6.5234e-04 - val_loss: 5.2833e-04 - val_mse: 5.2833e-04\n",
      "Epoch 36/50\n",
      "135/135 - 3s - loss: 5.2567e-04 - mse: 5.2567e-04 - val_loss: 5.5953e-04 - val_mse: 5.5953e-04\n",
      "Epoch 37/50\n",
      "135/135 - 3s - loss: 5.2281e-04 - mse: 5.2281e-04 - val_loss: 5.2993e-04 - val_mse: 5.2993e-04\n",
      "Epoch 38/50\n",
      "135/135 - 3s - loss: 5.7094e-04 - mse: 5.7094e-04 - val_loss: 5.6981e-04 - val_mse: 5.6981e-04\n",
      "Epoch 39/50\n",
      "135/135 - 3s - loss: 5.4293e-04 - mse: 5.4293e-04 - val_loss: 6.3964e-04 - val_mse: 6.3964e-04\n",
      "Epoch 40/50\n",
      "135/135 - 3s - loss: 4.8004e-04 - mse: 4.8004e-04 - val_loss: 4.7145e-04 - val_mse: 4.7145e-04\n",
      "Epoch 41/50\n",
      "135/135 - 3s - loss: 5.2407e-04 - mse: 5.2407e-04 - val_loss: 6.5218e-04 - val_mse: 6.5218e-04\n",
      "Epoch 42/50\n",
      "135/135 - 3s - loss: 4.8719e-04 - mse: 4.8719e-04 - val_loss: 4.5183e-04 - val_mse: 4.5183e-04\n",
      "Epoch 43/50\n",
      "135/135 - 3s - loss: 4.5436e-04 - mse: 4.5436e-04 - val_loss: 4.1626e-04 - val_mse: 4.1626e-04\n",
      "Epoch 44/50\n",
      "135/135 - 3s - loss: 4.8521e-04 - mse: 4.8521e-04 - val_loss: 3.7611e-04 - val_mse: 3.7611e-04\n",
      "Epoch 45/50\n",
      "135/135 - 3s - loss: 4.9596e-04 - mse: 4.9596e-04 - val_loss: 5.3776e-04 - val_mse: 5.3776e-04\n",
      "Epoch 46/50\n",
      "135/135 - 3s - loss: 4.2144e-04 - mse: 4.2144e-04 - val_loss: 3.6035e-04 - val_mse: 3.6035e-04\n",
      "Epoch 47/50\n",
      "135/135 - 3s - loss: 4.4477e-04 - mse: 4.4477e-04 - val_loss: 3.8993e-04 - val_mse: 3.8993e-04\n",
      "Epoch 48/50\n",
      "135/135 - 3s - loss: 5.5065e-04 - mse: 5.5065e-04 - val_loss: 4.7689e-04 - val_mse: 4.7689e-04\n",
      "Epoch 49/50\n",
      "135/135 - 3s - loss: 4.2233e-04 - mse: 4.2233e-04 - val_loss: 3.7776e-04 - val_mse: 3.7776e-04\n",
      "Epoch 50/50\n",
      "135/135 - 3s - loss: 4.4324e-04 - mse: 4.4324e-04 - val_loss: 6.0977e-04 - val_mse: 6.0977e-04\n",
      "\n",
      "time= 2:30\n"
     ]
    }
   ],
   "source": [
    "t1=time()\n",
    "\n",
    "# fit the model\n",
    "model.fit(x_train, y_train, epochs=epoch_, batch_size=batch_size_, verbose=2, validation_split=0.1,\n",
    "          callbacks=[callbacks.EarlyStopping(monitor='val_loss', patience=10,verbose=2, mode='auto')])\n",
    "\n",
    "t2=time(); tt=t2-t1; tminute=tt//60; tsec=tt-tminute*60; print('\\r\\ntime= ',int(tminute),':',int(tsec),sep=''); t1=t2"
   ]
  },
  {
   "cell_type": "code",
   "execution_count": 6,
   "metadata": {},
   "outputs": [
    {
     "name": "stdout",
     "output_type": "stream",
     "text": [
      "1/1 [==============================] - 0s 3ms/step - loss: 6.0512e-04 - mse: 6.0512e-04\n",
      "\n",
      "time= 0.8 s\n"
     ]
    }
   ],
   "source": [
    "t1=time()\n",
    "\n",
    "# evaluate the model\n",
    "error = model.evaluate(x_train, y_train, verbose=1, batch_size=min(1000000,len(x_train)))\n",
    "\n",
    "t2=time(); print('\\r\\ntime=',round(t2-t1,1),'s'); t1=t2"
   ]
  },
  {
   "cell_type": "code",
   "execution_count": 7,
   "metadata": {},
   "outputs": [
    {
     "name": "stdout",
     "output_type": "stream",
     "text": [
      "\r\n",
      "time= 0.5 s\n"
     ]
    }
   ],
   "source": [
    "t1=time()\n",
    "\n",
    "# make a prediction\n",
    "y_test_hat = model.predict(x_test, batch_size=min(1000000,len(x_train)))\n",
    "\n",
    "t2=time(); print('\\r\\ntime=',round(t2-t1,1),'s'); t1=t2"
   ]
  },
  {
   "cell_type": "code",
   "execution_count": null,
   "metadata": {},
   "outputs": [],
   "source": []
  },
  {
   "cell_type": "code",
   "execution_count": null,
   "metadata": {},
   "outputs": [],
   "source": []
  },
  {
   "cell_type": "code",
   "execution_count": 8,
   "metadata": {},
   "outputs": [
    {
     "name": "stdout",
     "output_type": "stream",
     "text": [
      "#MSE * 1e4 =  6.0\n"
     ]
    }
   ],
   "source": [
    "mse = mean_squared_error(y_test,y_test_hat)\n",
    "print('#MSE * 1e4 = ', round(mse*1e4,3))"
   ]
  },
  {
   "cell_type": "code",
   "execution_count": 9,
   "metadata": {},
   "outputs": [],
   "source": [
    "ind_test=np.argsort(x_test)"
   ]
  },
  {
   "cell_type": "code",
   "execution_count": 10,
   "metadata": {},
   "outputs": [
    {
     "data": {
      "text/plain": [
       "<matplotlib.legend.Legend at 0x2ce0022a5c8>"
      ]
     },
     "execution_count": 10,
     "metadata": {},
     "output_type": "execute_result"
    },
    {
     "data": {
      "image/png": "[encoded data removed]",
      "text/plain": [
       "<Figure size 432x288 with 1 Axes>"
      ]
     },
     "metadata": {
      "needs_background": "light"
     },
     "output_type": "display_data"
    }
   ],
   "source": [
    "plt.plot(x_test[ind_test],y_test[ind_test], label='exact')#, linestyle='None', markersize = 10.0\n",
    "plt.plot(x_test[ind_test],y_test_hat[ind_test], label='tensorflow')#, linestyle='None', markersize = 10.0\n",
    "plt.legend()"
   ]
  },
  {
   "cell_type": "code",
   "execution_count": 11,
   "metadata": {},
   "outputs": [
    {
     "data": {
      "text/plain": [
       "<matplotlib.legend.Legend at 0x2ce030c8208>"
      ]
     },
     "execution_count": 11,
     "metadata": {},
     "output_type": "execute_result"
    },
    {
     "data": {
      "image/png": "[encoded data removed]",
      "text/plain": [
       "<Figure size 432x288 with 1 Axes>"
      ]
     },
     "metadata": {
      "needs_background": "light"
     },
     "output_type": "display_data"
    }
   ],
   "source": [
    "plt.plot(np.arange(200),y_test[0:200], label='exact'                                 ,marker='o',linestyle='None', mfc='none')\n",
    "plt.plot(np.arange(200),y_test_hat[0:200], label='tensorflow-mse='+str(round(mse*1e4,2)),marker='x',linestyle='None')\n",
    "plt.legend(loc='upper center', bbox_to_anchor=(0.5, -0.1),fancybox=True, shadow=True, ncol=5)"
   ]
  },
  {
   "cell_type": "code",
   "execution_count": null,
   "metadata": {},
   "outputs": [],
   "source": []
  },
  {
   "cell_type": "code",
   "execution_count": 12,
   "metadata": {},
   "outputs": [
    {
     "name": "stdout",
     "output_type": "stream",
     "text": [
      "Model: \"sequential_1\"\n",
      "_________________________________________________________________\n",
      "Layer (type)                 Output Shape              Param #   \n",
      "=================================================================\n",
      "dense_2 (Dense)              (None, 18)                36        \n",
      "_________________________________________________________________\n",
      "dense_3 (Dense)              (None, 18)                342       \n",
      "_________________________________________________________________\n",
      "dense_4 (Dense)              (None, 18)                342       \n",
      "_________________________________________________________________\n",
      "dense_5 (Dense)              (None, 18)                342       \n",
      "_________________________________________________________________\n",
      "dense_6 (Dense)              (None, 18)                342       \n",
      "_________________________________________________________________\n",
      "dense_7 (Dense)              (None, 18)                342       \n",
      "_________________________________________________________________\n",
      "dense_8 (Dense)              (None, 18)                342       \n",
      "_________________________________________________________________\n",
      "dense_9 (Dense)              (None, 18)                342       \n",
      "_________________________________________________________________\n",
      "dense_10 (Dense)             (None, 18)                342       \n",
      "_________________________________________________________________\n",
      "dense_11 (Dense)             (None, 18)                342       \n",
      "_________________________________________________________________\n",
      "dense_12 (Dense)             (None, 18)                342       \n",
      "_________________________________________________________________\n",
      "dense_13 (Dense)             (None, 18)                342       \n",
      "_________________________________________________________________\n",
      "dense_14 (Dense)             (None, 18)                342       \n",
      "_________________________________________________________________\n",
      "dense_15 (Dense)             (None, 18)                342       \n",
      "_________________________________________________________________\n",
      "dense_16 (Dense)             (None, 18)                342       \n",
      "_________________________________________________________________\n",
      "dense_17 (Dense)             (None, 18)                342       \n",
      "_________________________________________________________________\n",
      "dense_18 (Dense)             (None, 18)                342       \n",
      "_________________________________________________________________\n",
      "dense_19 (Dense)             (None, 18)                342       \n",
      "_________________________________________________________________\n",
      "dense_20 (Dense)             (None, 18)                342       \n",
      "_________________________________________________________________\n",
      "dense_21 (Dense)             (None, 18)                342       \n",
      "_________________________________________________________________\n",
      "dense_22 (Dense)             (None, 18)                342       \n",
      "_________________________________________________________________\n",
      "dense_23 (Dense)             (None, 18)                342       \n",
      "_________________________________________________________________\n",
      "dense_24 (Dense)             (None, 18)                342       \n",
      "_________________________________________________________________\n",
      "dense_25 (Dense)             (None, 18)                342       \n",
      "_________________________________________________________________\n",
      "dense_26 (Dense)             (None, 18)                342       \n",
      "_________________________________________________________________\n",
      "dense_27 (Dense)             (None, 18)                342       \n",
      "_________________________________________________________________\n",
      "dense_28 (Dense)             (None, 18)                342       \n",
      "_________________________________________________________________\n",
      "dense_29 (Dense)             (None, 18)                342       \n",
      "_________________________________________________________________\n",
      "dense_30 (Dense)             (None, 1)                 19        \n",
      "=================================================================\n",
      "Total params: 9,289\n",
      "Trainable params: 9,289\n",
      "Non-trainable params: 0\n",
      "_________________________________________________________________\n"
     ]
    }
   ],
   "source": [
    "model.summary()"
   ]
  },
  {
   "cell_type": "code",
   "execution_count": null,
   "metadata": {},
   "outputs": [],
   "source": []
  },
  {
   "cell_type": "code",
   "execution_count": null,
   "metadata": {},
   "outputs": [],
   "source": []
  }
 ],
 "metadata": {
  "kernelspec": {
   "display_name": ".venv",
   "language": "python",
   "name": ".venv"
  },
  "language_info": {
   "codemirror_mode": {
    "name": "ipython",
    "version": 3
   },
   "file_extension": ".py",
   "mimetype": "text/x-python",
   "name": "python",
   "nbconvert_exporter": "python",
   "pygments_lexer": "ipython3",
   "version": "3.7.8"
  }
 },
 "nbformat": 4,
 "nbformat_minor": 4
}
