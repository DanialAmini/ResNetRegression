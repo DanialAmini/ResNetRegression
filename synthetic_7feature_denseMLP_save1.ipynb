{
 "cells": [
  {
   "cell_type": "code",
   "execution_count": null,
   "metadata": {},
   "outputs": [],
   "source": []
  },
  {
   "cell_type": "code",
   "execution_count": 1,
   "metadata": {},
   "outputs": [
    {
     "name": "stdout",
     "output_type": "stream",
     "text": [
      "time to load libraries= 4.1 s\n"
     ]
    }
   ],
   "source": [
    "#kernel = .venv\n",
    "\n",
    "import time\n",
    "from time import time\n",
    "t0=time()\n",
    "\n",
    "import numpy as np\n",
    "from tensorflow.keras import layers,models,callbacks,Sequential #should I remove?\n",
    "from tensorflow.keras.layers import Dense\n",
    "from sklearn.metrics import mean_squared_error\n",
    "import matplotlib.pyplot as plt\n",
    "\n",
    "t1=time()\n",
    "print('time to load libraries=',round(t1-t0,1),'s')"
   ]
  },
  {
   "cell_type": "code",
   "execution_count": null,
   "metadata": {},
   "outputs": [],
   "source": []
  },
  {
   "cell_type": "code",
   "execution_count": null,
   "metadata": {},
   "outputs": [],
   "source": []
  },
  {
   "cell_type": "code",
   "execution_count": null,
   "metadata": {},
   "outputs": [],
   "source": []
  },
  {
   "cell_type": "code",
   "execution_count": 2,
   "metadata": {},
   "outputs": [
    {
     "name": "stdout",
     "output_type": "stream",
     "text": [
      "time to generate synthetic data= 0.1 s\n"
     ]
    }
   ],
   "source": [
    "t1=time()\n",
    "\n",
    "#create synthetic data\n",
    "N_train=7500000\n",
    "N_test =2500000\n",
    "\n",
    "N_train=75000\n",
    "N_test =25000\n",
    "\n",
    "nx_=7 #number of attributes\n",
    "\n",
    "x_train=np.random.rand(N_train,7) #train & test data are separately generated\n",
    "y_train=np.zeros(N_train)\n",
    "x_test=np.random.rand(N_test,7)\n",
    "y_test=np.zeros(N_test)\n",
    "\n",
    "\n",
    "#with vectorization\n",
    "def myfunc(x):\n",
    "    y=np.zeros(len(x))\n",
    "    for i in range(7+1):\n",
    "        y=y+np.power(x[:,0]*4,i)\n",
    "    #a sort of step function\n",
    "    y=np.where(y>=1600,1600,np.where(y>=1200,1200,np.where(y>=800,800,np.where(y>=400,400,y))))/1600\n",
    "    #create multiplication & division of other columns\n",
    "    y=y+x[:,1]+np.power(x[:,2],2)+x[:,3]*x[:,4]+x[:,5]/(1+x[:,6])\n",
    "    return y\n",
    "\n",
    "#vfunc = np.vectorize(myfunc) #it actually hurts the performance\n",
    "\n",
    "y_train=myfunc(x_train)\n",
    "y_test=myfunc(x_test)\n",
    "\n",
    "ymax=max(y_train)\n",
    "\n",
    "y_train=y_train/ymax #a very simple normalization\n",
    "y_test=y_test/ymax\n",
    "\n",
    "t2=time(); print('time to generate synthetic data=',round(t2-t1,1),'s'); t1=t2 "
   ]
  },
  {
   "cell_type": "code",
   "execution_count": null,
   "metadata": {},
   "outputs": [],
   "source": []
  },
  {
   "cell_type": "code",
   "execution_count": null,
   "metadata": {},
   "outputs": [],
   "source": []
  },
  {
   "cell_type": "code",
   "execution_count": 3,
   "metadata": {},
   "outputs": [],
   "source": [
    "###############tensorflow fully connected (dense) regression\n",
    "if 'model' in globals():\n",
    "    del model\n",
    "\n",
    "epoch_=50;\n",
    "batch_size_=5000 #bigger batch sizes are not good\n",
    "\n",
    "wid_=18;\t\tdep_=28;\t\tactivation_='relu';\t\t\t#MSE*1e4= 0.782 , time= 18:30\n",
    "\n",
    "model = Sequential()\n",
    "model.add(Dense(wid_, activation=activation_, kernel_initializer='he_normal', input_shape=(nx_,)))\n",
    "for i in range(dep_-1):\n",
    "    model.add(Dense(wid_, activation=activation_, kernel_initializer='he_normal'))\n",
    "model.add(Dense(1)) #linear activation function\n",
    "\n",
    "model.compile(optimizer='adam', loss='mse', metrics=['mse']) # compile the model"
   ]
  },
  {
   "cell_type": "code",
   "execution_count": null,
   "metadata": {},
   "outputs": [],
   "source": []
  },
  {
   "cell_type": "code",
   "execution_count": 4,
   "metadata": {},
   "outputs": [
    {
     "name": "stdout",
     "output_type": "stream",
     "text": [
      "Epoch 1/50\n",
      "14/14 - 1s - loss: 0.1679 - mse: 0.1679 - val_loss: 0.0968 - val_mse: 0.0968\n",
      "Epoch 2/50\n",
      "14/14 - 0s - loss: 0.0467 - mse: 0.0467 - val_loss: 0.0233 - val_mse: 0.0233\n",
      "Epoch 3/50\n",
      "14/14 - 0s - loss: 0.0239 - mse: 0.0239 - val_loss: 0.0217 - val_mse: 0.0217\n",
      "Epoch 4/50\n",
      "14/14 - 0s - loss: 0.0205 - mse: 0.0205 - val_loss: 0.0194 - val_mse: 0.0194\n",
      "Epoch 5/50\n",
      "14/14 - 0s - loss: 0.0176 - mse: 0.0176 - val_loss: 0.0156 - val_mse: 0.0156\n",
      "Epoch 6/50\n",
      "14/14 - 0s - loss: 0.0134 - mse: 0.0134 - val_loss: 0.0106 - val_mse: 0.0106\n",
      "Epoch 7/50\n",
      "14/14 - 0s - loss: 0.0088 - mse: 0.0088 - val_loss: 0.0072 - val_mse: 0.0072\n",
      "Epoch 8/50\n",
      "14/14 - 0s - loss: 0.0063 - mse: 0.0063 - val_loss: 0.0052 - val_mse: 0.0052\n",
      "Epoch 9/50\n",
      "14/14 - 0s - loss: 0.0048 - mse: 0.0048 - val_loss: 0.0043 - val_mse: 0.0043\n",
      "Epoch 10/50\n",
      "14/14 - 0s - loss: 0.0041 - mse: 0.0041 - val_loss: 0.0038 - val_mse: 0.0038\n",
      "Epoch 11/50\n",
      "14/14 - 0s - loss: 0.0036 - mse: 0.0036 - val_loss: 0.0034 - val_mse: 0.0034\n",
      "Epoch 12/50\n",
      "14/14 - 0s - loss: 0.0033 - mse: 0.0033 - val_loss: 0.0031 - val_mse: 0.0031\n",
      "Epoch 13/50\n",
      "14/14 - 0s - loss: 0.0030 - mse: 0.0030 - val_loss: 0.0029 - val_mse: 0.0029\n",
      "Epoch 14/50\n",
      "14/14 - 0s - loss: 0.0028 - mse: 0.0028 - val_loss: 0.0027 - val_mse: 0.0027\n",
      "Epoch 15/50\n",
      "14/14 - 0s - loss: 0.0027 - mse: 0.0027 - val_loss: 0.0026 - val_mse: 0.0026\n",
      "Epoch 16/50\n",
      "14/14 - 0s - loss: 0.0026 - mse: 0.0026 - val_loss: 0.0025 - val_mse: 0.0025\n",
      "Epoch 17/50\n",
      "14/14 - 0s - loss: 0.0025 - mse: 0.0025 - val_loss: 0.0025 - val_mse: 0.0025\n",
      "Epoch 18/50\n",
      "14/14 - 0s - loss: 0.0024 - mse: 0.0024 - val_loss: 0.0024 - val_mse: 0.0024\n",
      "Epoch 19/50\n",
      "14/14 - 0s - loss: 0.0023 - mse: 0.0023 - val_loss: 0.0024 - val_mse: 0.0024\n",
      "Epoch 20/50\n",
      "14/14 - 0s - loss: 0.0023 - mse: 0.0023 - val_loss: 0.0023 - val_mse: 0.0023\n",
      "Epoch 21/50\n",
      "14/14 - 0s - loss: 0.0022 - mse: 0.0022 - val_loss: 0.0022 - val_mse: 0.0022\n",
      "Epoch 22/50\n",
      "14/14 - 0s - loss: 0.0022 - mse: 0.0022 - val_loss: 0.0022 - val_mse: 0.0022\n",
      "Epoch 23/50\n",
      "14/14 - 0s - loss: 0.0022 - mse: 0.0022 - val_loss: 0.0022 - val_mse: 0.0022\n",
      "Epoch 24/50\n",
      "14/14 - 0s - loss: 0.0021 - mse: 0.0021 - val_loss: 0.0021 - val_mse: 0.0021\n",
      "Epoch 25/50\n",
      "14/14 - 0s - loss: 0.0021 - mse: 0.0021 - val_loss: 0.0020 - val_mse: 0.0020\n",
      "Epoch 26/50\n",
      "14/14 - 0s - loss: 0.0020 - mse: 0.0020 - val_loss: 0.0021 - val_mse: 0.0021\n",
      "Epoch 27/50\n",
      "14/14 - 0s - loss: 0.0020 - mse: 0.0020 - val_loss: 0.0019 - val_mse: 0.0019\n",
      "Epoch 28/50\n",
      "14/14 - 0s - loss: 0.0019 - mse: 0.0019 - val_loss: 0.0019 - val_mse: 0.0019\n",
      "Epoch 29/50\n",
      "14/14 - 0s - loss: 0.0019 - mse: 0.0019 - val_loss: 0.0018 - val_mse: 0.0018\n",
      "Epoch 30/50\n",
      "14/14 - 0s - loss: 0.0018 - mse: 0.0018 - val_loss: 0.0018 - val_mse: 0.0018\n",
      "Epoch 31/50\n",
      "14/14 - 0s - loss: 0.0018 - mse: 0.0018 - val_loss: 0.0018 - val_mse: 0.0018\n",
      "Epoch 32/50\n",
      "14/14 - 0s - loss: 0.0018 - mse: 0.0018 - val_loss: 0.0018 - val_mse: 0.0018\n",
      "Epoch 33/50\n",
      "14/14 - 0s - loss: 0.0017 - mse: 0.0017 - val_loss: 0.0017 - val_mse: 0.0017\n",
      "Epoch 34/50\n",
      "14/14 - 0s - loss: 0.0017 - mse: 0.0017 - val_loss: 0.0017 - val_mse: 0.0017\n",
      "Epoch 35/50\n",
      "14/14 - 0s - loss: 0.0016 - mse: 0.0016 - val_loss: 0.0016 - val_mse: 0.0016\n",
      "Epoch 36/50\n",
      "14/14 - 0s - loss: 0.0016 - mse: 0.0016 - val_loss: 0.0016 - val_mse: 0.0016\n",
      "Epoch 37/50\n",
      "14/14 - 0s - loss: 0.0016 - mse: 0.0016 - val_loss: 0.0016 - val_mse: 0.0016\n",
      "Epoch 38/50\n",
      "14/14 - 0s - loss: 0.0016 - mse: 0.0016 - val_loss: 0.0016 - val_mse: 0.0016\n",
      "Epoch 39/50\n",
      "14/14 - 0s - loss: 0.0015 - mse: 0.0015 - val_loss: 0.0015 - val_mse: 0.0015\n",
      "Epoch 40/50\n",
      "14/14 - 0s - loss: 0.0015 - mse: 0.0015 - val_loss: 0.0015 - val_mse: 0.0015\n",
      "Epoch 41/50\n",
      "14/14 - 0s - loss: 0.0015 - mse: 0.0015 - val_loss: 0.0015 - val_mse: 0.0015\n",
      "Epoch 42/50\n",
      "14/14 - 0s - loss: 0.0015 - mse: 0.0015 - val_loss: 0.0014 - val_mse: 0.0014\n",
      "Epoch 43/50\n",
      "14/14 - 0s - loss: 0.0014 - mse: 0.0014 - val_loss: 0.0015 - val_mse: 0.0015\n",
      "Epoch 44/50\n",
      "14/14 - 0s - loss: 0.0015 - mse: 0.0015 - val_loss: 0.0014 - val_mse: 0.0014\n",
      "Epoch 45/50\n",
      "14/14 - 0s - loss: 0.0015 - mse: 0.0015 - val_loss: 0.0014 - val_mse: 0.0014\n",
      "Epoch 46/50\n",
      "14/14 - 0s - loss: 0.0014 - mse: 0.0014 - val_loss: 0.0014 - val_mse: 0.0014\n",
      "Epoch 47/50\n",
      "14/14 - 0s - loss: 0.0014 - mse: 0.0014 - val_loss: 0.0014 - val_mse: 0.0014\n",
      "Epoch 48/50\n",
      "14/14 - 0s - loss: 0.0014 - mse: 0.0014 - val_loss: 0.0013 - val_mse: 0.0013\n",
      "Epoch 49/50\n",
      "14/14 - 0s - loss: 0.0014 - mse: 0.0014 - val_loss: 0.0013 - val_mse: 0.0013\n",
      "Epoch 50/50\n",
      "14/14 - 0s - loss: 0.0013 - mse: 0.0013 - val_loss: 0.0013 - val_mse: 0.0013\n",
      "\n",
      "time to train= 0:18\n"
     ]
    }
   ],
   "source": [
    "t1=time()\n",
    "\n",
    "# fit the model\n",
    "model.fit(x_train, y_train, epochs=epoch_, batch_size=batch_size_, verbose=2, validation_split=0.1,\n",
    "          callbacks=[callbacks.EarlyStopping(monitor='val_loss', patience=10,verbose=2, mode='auto')])\n",
    "\n",
    "t2=time(); tt=t2-t1; tminute=tt//60; tsec=tt-tminute*60; print('\\r\\ntime to train= ',int(tminute),':',int(tsec),sep=''); t1=t2"
   ]
  },
  {
   "cell_type": "code",
   "execution_count": 5,
   "metadata": {},
   "outputs": [
    {
     "name": "stdout",
     "output_type": "stream",
     "text": [
      "1/1 [==============================] - 0s 1000us/step - loss: 0.0013 - mse: 0.0013\n",
      "#MSE * 1e4 =  13.495\n",
      "\n",
      "time for prediction (inference)= 0.7 s\n"
     ]
    }
   ],
   "source": [
    "t1=time()\n",
    "\n",
    "# evaluate the model\n",
    "error = model.evaluate(x_train, y_train, verbose=1, batch_size=min(1000000,len(x_train)))\n",
    "\n",
    "# make a prediction\n",
    "y_test_hat = model.predict(x_test, batch_size=min(1000000,len(x_train)))\n",
    "\n",
    "mse = mean_squared_error(y_test,y_test_hat)\n",
    "print('#MSE * 1e4 = ', round(mse*1e4,3))\n",
    "\n",
    "t2=time(); print('\\r\\ntime for prediction (inference)=',round(t2-t1,1),'s'); t1=t2"
   ]
  },
  {
   "cell_type": "code",
   "execution_count": null,
   "metadata": {},
   "outputs": [],
   "source": []
  },
  {
   "cell_type": "code",
   "execution_count": null,
   "metadata": {},
   "outputs": [],
   "source": []
  },
  {
   "cell_type": "code",
   "execution_count": 6,
   "metadata": {},
   "outputs": [
    {
     "data": {
      "text/plain": [
       "<matplotlib.legend.Legend at 0x19e4684ca08>"
      ]
     },
     "execution_count": 6,
     "metadata": {},
     "output_type": "execute_result"
    },
    {
     "data": {
      "image/png": "[encoded data removed]",
      "text/plain": [
       "<Figure size 432x288 with 1 Axes>"
      ]
     },
     "metadata": {
      "needs_background": "light"
     },
     "output_type": "display_data"
    }
   ],
   "source": [
    "#plotting the results\n",
    "ind_test=np.argsort(y_test)\n",
    "\n",
    "plt.plot(np.arange(len(y_test))/len(y_test),y_test[ind_test], label='exact',zorder=2,color='red')\n",
    "\n",
    "plt.scatter(np.arange(len(y_test))/len(y_test),y_test_hat[ind_test], \n",
    "            label='tensorflow-mse='+str(round(mse*1e4,2)),marker='o',s=0.1,zorder=1)\n",
    "\n",
    "plt.legend(loc='upper center', bbox_to_anchor=(0.5, -0.1),fancybox=True, shadow=True, ncol=5)"
   ]
  },
  {
   "cell_type": "code",
   "execution_count": null,
   "metadata": {},
   "outputs": [],
   "source": []
  },
  {
   "cell_type": "code",
   "execution_count": null,
   "metadata": {},
   "outputs": [],
   "source": []
  },
  {
   "cell_type": "code",
   "execution_count": null,
   "metadata": {},
   "outputs": [],
   "source": []
  },
  {
   "cell_type": "code",
   "execution_count": null,
   "metadata": {},
   "outputs": [],
   "source": []
  },
  {
   "cell_type": "code",
   "execution_count": null,
   "metadata": {},
   "outputs": [],
   "source": []
  },
  {
   "cell_type": "code",
   "execution_count": null,
   "metadata": {},
   "outputs": [],
   "source": []
  },
  {
   "cell_type": "code",
   "execution_count": 7,
   "metadata": {},
   "outputs": [
    {
     "name": "stdout",
     "output_type": "stream",
     "text": [
      "[8.9268523e-07]\n"
     ]
    }
   ],
   "source": [
    "#calculate outputs using\n",
    "temp_=x_test\n",
    "for i in range(dep_+1):\n",
    "    temp_=np.matmul(temp_,model.layers[i].get_weights()[0])+model.layers[i].get_weights()[1]\n",
    "    if i<dep_: #output layer has identity activation function\n",
    "        temp_[temp_<0] =0 #fancy index implementation of RelU function \n",
    "\n",
    "print(max(abs(y_test_hat-temp_))) #difference between outputs calculated by keras & matmul"
   ]
  },
  {
   "cell_type": "code",
   "execution_count": null,
   "metadata": {},
   "outputs": [],
   "source": []
  },
  {
   "cell_type": "code",
   "execution_count": null,
   "metadata": {},
   "outputs": [],
   "source": []
  },
  {
   "cell_type": "code",
   "execution_count": null,
   "metadata": {},
   "outputs": [],
   "source": []
  },
  {
   "cell_type": "code",
   "execution_count": null,
   "metadata": {},
   "outputs": [],
   "source": []
  }
 ],
 "metadata": {
  "kernelspec": {
   "display_name": ".venv",
   "language": "python",
   "name": ".venv"
  },
  "language_info": {
   "codemirror_mode": {
    "name": "ipython",
    "version": 3
   },
   "file_extension": ".py",
   "mimetype": "text/x-python",
   "name": "python",
   "nbconvert_exporter": "python",
   "pygments_lexer": "ipython3",
   "version": "3.7.8"
  }
 },
 "nbformat": 4,
 "nbformat_minor": 4
}
